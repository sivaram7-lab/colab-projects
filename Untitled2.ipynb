{
  "nbformat": 4,
  "nbformat_minor": 0,
  "metadata": {
    "colab": {
      "provenance": [],
      "authorship_tag": "ABX9TyPL2VKLe59irYrh1k4Vo5d+",
      "include_colab_link": true
    },
    "kernelspec": {
      "name": "python3",
      "display_name": "Python 3"
    },
    "language_info": {
      "name": "python"
    }
  },
  "cells": [
    {
      "cell_type": "markdown",
      "metadata": {
        "id": "view-in-github",
        "colab_type": "text"
      },
      "source": [
        "<a href=\"https://colab.research.google.com/github/sivaram7-lab/colab-projects/blob/main/Untitled2.ipynb\" target=\"_parent\"><img src=\"https://colab.research.google.com/assets/colab-badge.svg\" alt=\"Open In Colab\"/></a>"
      ]
    },
    {
      "cell_type": "code",
      "execution_count": null,
      "metadata": {
        "id": "fYU1CUUCamTY"
      },
      "outputs": [],
      "source": [
        "import pickle"
      ]
    },
    {
      "cell_type": "code",
      "source": [
        "import pickle\n",
        "from sklearn.linear_model import LogisticRegression # Import LogisticRegression\n",
        "\n",
        "# Assuming you have a pickled model file named 'logistic_regression_model.pkl'\n",
        "try:\n",
        "    l = pickle.load(open('//content/iris (1).pkl', 'rb'))\n",
        "except FileNotFoundError:\n",
        "    # If the model file doesn't exist, you'll need to train and save your model first.\n",
        "    # Example (replace with your actual training data and process):\n",
        "    print(\"Model file not found. Training a simple model as an example.\")\n",
        "    from sklearn.datasets import load_iris\n",
        "    X, y = load_iris(return_X_y=True)\n",
        "    l = LogisticRegression(random_state=0).fit(X, y)\n",
        "    pickle.dump(l, open('/content/logistic_regression_model.pkl', 'wb'))\n",
        "    print(\"Model trained and saved.\")\n",
        "\n",
        "\n",
        "a = l.predict([[1.5,1.7,1.8,2.0]])\n",
        "if a[0] == 0:\n",
        "  print('Setosa')\n",
        "elif a[0] == 1:\n",
        "  print('Versicolor')\n",
        "else:\n",
        "  print('Virgina')"
      ],
      "metadata": {
        "colab": {
          "base_uri": "https://localhost:8080/"
        },
        "id": "1xGfnOcSCwu6",
        "outputId": "996df33b-d21d-4cda-a293-46bef3ce4d5b"
      },
      "execution_count": null,
      "outputs": [
        {
          "output_type": "stream",
          "name": "stdout",
          "text": [
            "Setosa\n"
          ]
        },
        {
          "output_type": "stream",
          "name": "stderr",
          "text": [
            "/usr/local/lib/python3.11/dist-packages/sklearn/utils/validation.py:2739: UserWarning: X does not have valid feature names, but LogisticRegression was fitted with feature names\n",
            "  warnings.warn(\n"
          ]
        }
      ]
    },
    {
      "cell_type": "code",
      "source": [],
      "metadata": {
        "id": "xQBYHyGQCS9h"
      },
      "execution_count": null,
      "outputs": []
    },
    {
      "cell_type": "code",
      "source": [
        "a = l.predict([[1.5,1.7,1.8,2.0]])\n",
        "if a[0] == 0:\n",
        "  print('Setosa')\n",
        "elif a[0] == 1:\n",
        "  print('Versicolor')\n",
        "else:\n",
        "  print('Virgina')"
      ],
      "metadata": {
        "colab": {
          "base_uri": "https://localhost:8080/"
        },
        "id": "bGiSI1LECYWK",
        "outputId": "9bbb2d03-7de3-45e6-e7cd-2031efb6d13c"
      },
      "execution_count": null,
      "outputs": [
        {
          "output_type": "stream",
          "name": "stdout",
          "text": [
            "Setosa\n"
          ]
        },
        {
          "output_type": "stream",
          "name": "stderr",
          "text": [
            "/usr/local/lib/python3.11/dist-packages/sklearn/utils/validation.py:2739: UserWarning: X does not have valid feature names, but LogisticRegression was fitted with feature names\n",
            "  warnings.warn(\n"
          ]
        }
      ]
    }
  ]
}